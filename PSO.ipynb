{
 "cells": [
  {
   "cell_type": "code",
   "execution_count": 30,
   "id": "b34f82d6",
   "metadata": {},
   "outputs": [],
   "source": [
    "import numpy as np\n",
    "import pandas as pd"
   ]
  },
  {
   "cell_type": "code",
   "execution_count": 31,
   "id": "1530c494",
   "metadata": {},
   "outputs": [],
   "source": [
    "d = pd.read_csv(r\"C:\\Users\\ponra\\Downloads\\archive (3)\\Bank_Personal_Loan_Modelling.csv\")"
   ]
  },
  {
   "cell_type": "code",
   "execution_count": 32,
   "id": "fe852450",
   "metadata": {},
   "outputs": [
    {
     "data": {
      "text/html": [
       "<div>\n",
       "<style scoped>\n",
       "    .dataframe tbody tr th:only-of-type {\n",
       "        vertical-align: middle;\n",
       "    }\n",
       "\n",
       "    .dataframe tbody tr th {\n",
       "        vertical-align: top;\n",
       "    }\n",
       "\n",
       "    .dataframe thead th {\n",
       "        text-align: right;\n",
       "    }\n",
       "</style>\n",
       "<table border=\"1\" class=\"dataframe\">\n",
       "  <thead>\n",
       "    <tr style=\"text-align: right;\">\n",
       "      <th></th>\n",
       "      <th>ID</th>\n",
       "      <th>Age</th>\n",
       "      <th>Experience</th>\n",
       "      <th>Income</th>\n",
       "      <th>ZIP Code</th>\n",
       "      <th>Family</th>\n",
       "      <th>CCAvg</th>\n",
       "      <th>Education</th>\n",
       "      <th>Mortgage</th>\n",
       "      <th>Personal Loan</th>\n",
       "      <th>Securities Account</th>\n",
       "      <th>CD Account</th>\n",
       "      <th>Online</th>\n",
       "      <th>CreditCard</th>\n",
       "    </tr>\n",
       "  </thead>\n",
       "  <tbody>\n",
       "    <tr>\n",
       "      <th>0</th>\n",
       "      <td>1</td>\n",
       "      <td>25</td>\n",
       "      <td>1</td>\n",
       "      <td>49</td>\n",
       "      <td>91107</td>\n",
       "      <td>4</td>\n",
       "      <td>1.6</td>\n",
       "      <td>1</td>\n",
       "      <td>0</td>\n",
       "      <td>0</td>\n",
       "      <td>1</td>\n",
       "      <td>0</td>\n",
       "      <td>0</td>\n",
       "      <td>0</td>\n",
       "    </tr>\n",
       "    <tr>\n",
       "      <th>1</th>\n",
       "      <td>2</td>\n",
       "      <td>45</td>\n",
       "      <td>19</td>\n",
       "      <td>34</td>\n",
       "      <td>90089</td>\n",
       "      <td>3</td>\n",
       "      <td>1.5</td>\n",
       "      <td>1</td>\n",
       "      <td>0</td>\n",
       "      <td>0</td>\n",
       "      <td>1</td>\n",
       "      <td>0</td>\n",
       "      <td>0</td>\n",
       "      <td>0</td>\n",
       "    </tr>\n",
       "    <tr>\n",
       "      <th>2</th>\n",
       "      <td>3</td>\n",
       "      <td>39</td>\n",
       "      <td>15</td>\n",
       "      <td>11</td>\n",
       "      <td>94720</td>\n",
       "      <td>1</td>\n",
       "      <td>1.0</td>\n",
       "      <td>1</td>\n",
       "      <td>0</td>\n",
       "      <td>0</td>\n",
       "      <td>0</td>\n",
       "      <td>0</td>\n",
       "      <td>0</td>\n",
       "      <td>0</td>\n",
       "    </tr>\n",
       "    <tr>\n",
       "      <th>3</th>\n",
       "      <td>4</td>\n",
       "      <td>35</td>\n",
       "      <td>9</td>\n",
       "      <td>100</td>\n",
       "      <td>94112</td>\n",
       "      <td>1</td>\n",
       "      <td>2.7</td>\n",
       "      <td>2</td>\n",
       "      <td>0</td>\n",
       "      <td>0</td>\n",
       "      <td>0</td>\n",
       "      <td>0</td>\n",
       "      <td>0</td>\n",
       "      <td>0</td>\n",
       "    </tr>\n",
       "    <tr>\n",
       "      <th>4</th>\n",
       "      <td>5</td>\n",
       "      <td>35</td>\n",
       "      <td>8</td>\n",
       "      <td>45</td>\n",
       "      <td>91330</td>\n",
       "      <td>4</td>\n",
       "      <td>1.0</td>\n",
       "      <td>2</td>\n",
       "      <td>0</td>\n",
       "      <td>0</td>\n",
       "      <td>0</td>\n",
       "      <td>0</td>\n",
       "      <td>0</td>\n",
       "      <td>1</td>\n",
       "    </tr>\n",
       "  </tbody>\n",
       "</table>\n",
       "</div>"
      ],
      "text/plain": [
       "   ID  Age  Experience  Income  ZIP Code  Family  CCAvg  Education  Mortgage  \\\n",
       "0   1   25           1      49     91107       4    1.6          1         0   \n",
       "1   2   45          19      34     90089       3    1.5          1         0   \n",
       "2   3   39          15      11     94720       1    1.0          1         0   \n",
       "3   4   35           9     100     94112       1    2.7          2         0   \n",
       "4   5   35           8      45     91330       4    1.0          2         0   \n",
       "\n",
       "   Personal Loan  Securities Account  CD Account  Online  CreditCard  \n",
       "0              0                   1           0       0           0  \n",
       "1              0                   1           0       0           0  \n",
       "2              0                   0           0       0           0  \n",
       "3              0                   0           0       0           0  \n",
       "4              0                   0           0       0           1  "
      ]
     },
     "execution_count": 32,
     "metadata": {},
     "output_type": "execute_result"
    }
   ],
   "source": [
    "d.head()"
   ]
  },
  {
   "cell_type": "code",
   "execution_count": 33,
   "id": "36a3d6e9",
   "metadata": {},
   "outputs": [],
   "source": [
    "d.drop('ID',axis=1,inplace=True)"
   ]
  },
  {
   "cell_type": "code",
   "execution_count": 34,
   "id": "fe3fa1ed",
   "metadata": {},
   "outputs": [],
   "source": [
    "d['CCAvg'] = d['CCAvg'].astype('int64')"
   ]
  },
  {
   "cell_type": "code",
   "execution_count": 35,
   "id": "f55f200f",
   "metadata": {},
   "outputs": [
    {
     "name": "stdout",
     "output_type": "stream",
     "text": [
      "<class 'pandas.core.frame.DataFrame'>\n",
      "RangeIndex: 5000 entries, 0 to 4999\n",
      "Data columns (total 13 columns):\n",
      " #   Column              Non-Null Count  Dtype\n",
      "---  ------              --------------  -----\n",
      " 0   Age                 5000 non-null   int64\n",
      " 1   Experience          5000 non-null   int64\n",
      " 2   Income              5000 non-null   int64\n",
      " 3   ZIP Code            5000 non-null   int64\n",
      " 4   Family              5000 non-null   int64\n",
      " 5   CCAvg               5000 non-null   int64\n",
      " 6   Education           5000 non-null   int64\n",
      " 7   Mortgage            5000 non-null   int64\n",
      " 8   Personal Loan       5000 non-null   int64\n",
      " 9   Securities Account  5000 non-null   int64\n",
      " 10  CD Account          5000 non-null   int64\n",
      " 11  Online              5000 non-null   int64\n",
      " 12  CreditCard          5000 non-null   int64\n",
      "dtypes: int64(13)\n",
      "memory usage: 507.9 KB\n"
     ]
    }
   ],
   "source": [
    "d.info()"
   ]
  },
  {
   "cell_type": "code",
   "execution_count": 36,
   "id": "e9ad7b18",
   "metadata": {},
   "outputs": [
    {
     "data": {
      "text/plain": [
       "Index(['Age', 'Experience', 'Income', 'ZIP Code', 'Family', 'CCAvg',\n",
       "       'Education', 'Mortgage', 'Personal Loan', 'Securities Account',\n",
       "       'CD Account', 'Online', 'CreditCard'],\n",
       "      dtype='object')"
      ]
     },
     "execution_count": 36,
     "metadata": {},
     "output_type": "execute_result"
    }
   ],
   "source": [
    "d.columns"
   ]
  },
  {
   "cell_type": "code",
   "execution_count": 37,
   "id": "cc86314d",
   "metadata": {},
   "outputs": [],
   "source": [
    "d.columns=['Age', 'Experience', 'Income', 'ZIP Code', 'Family', 'CCAvg',\n",
    "       'Education', 'Mortgage', 'Securities Account',\n",
    "       'CD Account', 'Online', 'CreditCard','Personal Loan']"
   ]
  },
  {
   "cell_type": "code",
   "execution_count": 38,
   "id": "e2822327",
   "metadata": {},
   "outputs": [],
   "source": [
    "x = d.iloc[:,:-1].values\n",
    "y = d.iloc[:,-1].values"
   ]
  },
  {
   "cell_type": "code",
   "execution_count": 39,
   "id": "ca5491f0",
   "metadata": {},
   "outputs": [],
   "source": [
    "from sklearn.preprocessing import StandardScaler\n",
    "sc = StandardScaler()\n",
    "x = sc.fit_transform(x)"
   ]
  },
  {
   "cell_type": "code",
   "execution_count": 40,
   "id": "d30c3156",
   "metadata": {},
   "outputs": [],
   "source": [
    "x = x.T"
   ]
  },
  {
   "cell_type": "markdown",
   "id": "f8a78082",
   "metadata": {},
   "source": [
    "## Partical Swarm Optimization"
   ]
  },
  {
   "cell_type": "code",
   "execution_count": 123,
   "id": "2253e328",
   "metadata": {},
   "outputs": [],
   "source": [
    "def generate():\n",
    "    w1 = np.random.randn(1,96)\n",
    "    b1 = np.random.randn(1,8)\n",
    "    w2 = np.random.randn(1,8)\n",
    "    b2 = np.random.randn(1,1)\n",
    "    return w1,b1,w2,b2\n",
    "\n",
    "def sigmoid(z):\n",
    "    return 1/(1+np.exp(-z))\n",
    "\n",
    "def forward(w1,b1,w2,b2,x):\n",
    "    z1 = w1.dot(x)+b1\n",
    "    a1 = sigmoid(z1)\n",
    "    z2 = w2.dot(a1)+b2\n",
    "    a2 = sigmoid(z2)\n",
    "    return a2\n",
    "\n",
    "def fitness(acc,pred,y):\n",
    "    for i in range(len(pred)):\n",
    "        if(pred[i]>= 0.5):\n",
    "            pred[i] = 1\n",
    "        else:\n",
    "            pred[i] = 0\n",
    "    c = 0\n",
    "    for i in range(len(pred)):\n",
    "        if(pred[i]==y[i]):\n",
    "            c = c + 1\n",
    "    return c\n",
    "\n",
    "def update_velocity(p1,p2,v1,v2,pbest1,pbest2):\n",
    "    r1 = np.random.uniform(0,1)\n",
    "    r2 = np.random.uniform(0,1)\n",
    "    w = np.random.uniform(0.5,1)\n",
    "    c1 = 0.1\n",
    "    c2 = 0.1\n",
    "    for i in range(len(p1)):\n",
    "        for j in range(len(p1[i])):\n",
    "            p1[i][j] = w*v1[i][j] + c1*r1*(pbest1[i][j]-p1[i][j]) + \n",
    "            c2*r2*(p1[i][j])\n",
    "def pso(x,y):\n",
    "    acc = []\n",
    "    parti1 = []\n",
    "    parti2 = []\n",
    "    for i in range(25):\n",
    "        w1,b1,w2,b2 = generate()\n",
    "        parti1.append([w1,b1])\n",
    "        parti2.append([w2,b2])\n",
    "        w1 = w1.reshape(8,12)\n",
    "        b1 = b1.reshape(8,1)\n",
    "        a2 = forward(w1,b1,w2,b2,x)\n",
    "        pred = a2[0]\n",
    "        c = fitness(acc,pred,y)\n",
    "        acc.append(((c/len(y)),i))\n",
    "    pbest1 = []\n",
    "    pbest2 = []\n",
    "    globalBest = max(acc)[1]\n",
    "    gbest_v1 = parti1[globalBest]\n",
    "    pbest1.append([max(parti1[globalBest][0]),max(parti1[globalBest][1])])\n",
    "    gbest_v2 = parti2[globalBest]\n",
    "    pbest1.append([max(parti2[globalBest][0]),max(parti2[globalBest][1])])\n",
    "    #for calculating velocity\n",
    "    V1=[]\n",
    "    V2=[]\n",
    "    v1 = np.zeros(96)\n",
    "    vb1 = np.zeros(8)\n",
    "    v2 = np.zeros(8)\n",
    "    vb2 = np.zeros(1)\n",
    "    V1.append([v1,vb1])\n",
    "    V2.append([v2,vb2])\n",
    "    print(pbest1)\n",
    "    for i in range(100):\n",
    "        update_velocity(gbest_v1,gbest_v2,V1,V2,pbest1,pbest2)\n",
    "        a2 = forward(w1,b1,w2,b2,x)\n",
    "        fitness(acc,pred,y)"
   ]
  },
  {
   "cell_type": "code",
   "execution_count": 124,
   "id": "a41e747f",
   "metadata": {},
   "outputs": [
    {
     "name": "stdout",
     "output_type": "stream",
     "text": [
      "[[array([ 0.97451318, -0.24044869, -0.37587272,  1.18710781, -0.07303265,\n",
      "        0.9382579 ,  0.12462191,  0.78124365,  0.32846607, -0.39637303,\n",
      "       -0.58265734,  0.12774667, -0.38523036,  0.84308399,  0.26367341,\n",
      "        0.78275917, -1.11603007,  0.03449524, -1.08521652, -1.51439115,\n",
      "       -0.41066136, -0.29910459, -1.73922608,  2.12948734, -0.47958794,\n",
      "        0.17925514, -0.05644086,  1.97468535,  0.559673  ,  0.39023592,\n",
      "       -0.6527119 ,  2.12913606,  0.23541823, -0.91737725, -0.280135  ,\n",
      "       -0.2067527 ,  1.11403504, -0.83308094, -0.16156299,  0.64294753,\n",
      "        0.12761776,  0.97951686,  0.39987994,  0.97809378, -0.93327025,\n",
      "       -0.79643287,  0.09490715,  0.85663975, -1.03496568,  0.28317691,\n",
      "        1.9312237 ,  0.02306302,  0.47706399, -0.50322972, -1.56118856,\n",
      "        0.00838141,  1.94952944, -0.2330557 , -0.03834068, -0.3566398 ,\n",
      "       -0.32803907,  0.63350284, -0.04956702, -0.79085787, -1.62728092,\n",
      "        0.37276309, -0.41311114, -0.57070019, -0.95723496,  1.57987325,\n",
      "        0.59728788,  1.7313728 ,  1.16459209, -0.2544492 , -0.52252532,\n",
      "       -1.00595784, -1.27045275, -0.83036486, -0.25171778, -1.06665691,\n",
      "       -0.32800879,  0.43339   , -0.33517812, -1.25388462,  1.27827233,\n",
      "       -1.26832145,  1.19051039,  0.33799028, -1.34831777,  1.61489637,\n",
      "        0.3094313 , -0.3154647 ,  0.00424603, -0.81223688, -0.80597212,\n",
      "       -0.68535217]), array([ 2.17693682,  0.42115928, -0.26225295,  0.60984319, -0.43312381,\n",
      "       -1.48860645,  1.55001289,  0.38157346])], [array([-1.09582929,  0.85234957,  0.02799603, -0.11360236, -0.82825864,\n",
      "        0.13034753, -0.23598496, -0.72861824]), array([-1.59746613])]]\n"
     ]
    }
   ],
   "source": [
    "pso(x,y)"
   ]
  },
  {
   "cell_type": "code",
   "execution_count": null,
   "id": "3eaaef6c",
   "metadata": {},
   "outputs": [],
   "source": []
  }
 ],
 "metadata": {
  "kernelspec": {
   "display_name": "Python 3 (ipykernel)",
   "language": "python",
   "name": "python3"
  },
  "language_info": {
   "codemirror_mode": {
    "name": "ipython",
    "version": 3
   },
   "file_extension": ".py",
   "mimetype": "text/x-python",
   "name": "python",
   "nbconvert_exporter": "python",
   "pygments_lexer": "ipython3",
   "version": "3.9.12"
  }
 },
 "nbformat": 4,
 "nbformat_minor": 5
}
